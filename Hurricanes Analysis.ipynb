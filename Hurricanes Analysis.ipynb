{
 "cells": [
  {
   "cell_type": "markdown",
   "id": "5cc3995b",
   "metadata": {},
   "source": [
    "# CodeCademy Hurricanes Project"
   ]
  },
  {
   "cell_type": "markdown",
   "id": "2a61e78b",
   "metadata": {},
   "source": [
    "Hurricanes, also known as cyclones or typhoons, are one of the most powerful forces of nature on Earth. Due to climate change caused by human activity, the number and intensity of hurricanes has risen, calling for better preparation by the many communities that are devastated by them. As a concerned environmentalist, you want to look at data about the most powerful hurricanes that have occurred."
   ]
  },
  {
   "cell_type": "code",
   "execution_count": 1,
   "id": "fcd97927",
   "metadata": {},
   "outputs": [],
   "source": [
    "# names of hurricanes\n",
    "names = ['Cuba I', 'San Felipe II Okeechobee', 'Bahamas', 'Cuba II', 'CubaBrownsville', 'Tampico', 'Labor Day', 'New England', 'Carol', 'Janet', 'Carla', 'Hattie', 'Beulah', 'Camille', 'Edith', 'Anita', 'David', 'Allen', 'Gilbert', 'Hugo', 'Andrew', 'Mitch', 'Isabel', 'Ivan', 'Emily', 'Katrina', 'Rita', 'Wilma', 'Dean', 'Felix', 'Matthew', 'Irma', 'Maria', 'Michael']\n",
    "\n",
    "# months of hurricanes\n",
    "months = ['October', 'September', 'September', 'November', 'August', 'September', 'September', 'September', 'September', 'September', 'September', 'October', 'September', 'August', 'September', 'September', 'August', 'August', 'September', 'September', 'August', 'October', 'September', 'September', 'July', 'August', 'September', 'October', 'August', 'September', 'October', 'September', 'September', 'October']\n",
    "\n",
    "# years of hurricanes\n",
    "years = [1924, 1928, 1932, 1932, 1933, 1933, 1935, 1938, 1953, 1955, 1961, 1961, 1967, 1969, 1971, 1977, 1979, 1980, 1988, 1989, 1992, 1998, 2003, 2004, 2005, 2005, 2005, 2005, 2007, 2007, 2016, 2017, 2017, 2018]\n",
    "\n",
    "# maximum sustained winds (mph) of hurricanes\n",
    "max_sustained_winds = [165, 160, 160, 175, 160, 160, 185, 160, 160, 175, 175, 160, 160, 175, 160, 175, 175, 190, 185, 160, 175, 180, 165, 165, 160, 175, 180, 185, 175, 175, 165, 180, 175, 160]\n",
    "\n",
    "# areas affected by each hurricane\n",
    "areas_affected = [['Central America', 'Mexico', 'Cuba', 'Florida', 'The Bahamas'], ['Lesser Antilles', 'The Bahamas', 'United States East Coast', 'Atlantic Canada'], ['The Bahamas', 'Northeastern United States'], ['Lesser Antilles', 'Jamaica', 'Cayman Islands', 'Cuba', 'The Bahamas', 'Bermuda'], ['The Bahamas', 'Cuba', 'Florida', 'Texas', 'Tamaulipas'], ['Jamaica', 'Yucatn Peninsula'], ['The Bahamas', 'Florida', 'Georgia', 'The Carolinas', 'Virginia'], ['Southeastern United States', 'Northeastern United States', 'Southwestern Quebec'], ['Bermuda', 'New England', 'Atlantic Canada'], ['Lesser Antilles', 'Central America'], ['Texas', 'Louisiana', 'Midwestern United States'], ['Central America'], ['The Caribbean', 'Mexico', 'Texas'], ['Cuba', 'United States Gulf Coast'], ['The Caribbean', 'Central America', 'Mexico', 'United States Gulf Coast'], ['Mexico'], ['The Caribbean', 'United States East coast'], ['The Caribbean', 'Yucatn Peninsula', 'Mexico', 'South Texas'], ['Jamaica', 'Venezuela', 'Central America', 'Hispaniola', 'Mexico'], ['The Caribbean', 'United States East Coast'], ['The Bahamas', 'Florida', 'United States Gulf Coast'], ['Central America', 'Yucatn Peninsula', 'South Florida'], ['Greater Antilles', 'Bahamas', 'Eastern United States', 'Ontario'], ['The Caribbean', 'Venezuela', 'United States Gulf Coast'], ['Windward Islands', 'Jamaica', 'Mexico', 'Texas'], ['Bahamas', 'United States Gulf Coast'], ['Cuba', 'United States Gulf Coast'], ['Greater Antilles', 'Central America', 'Florida'], ['The Caribbean', 'Central America'], ['Nicaragua', 'Honduras'], ['Antilles', 'Venezuela', 'Colombia', 'United States East Coast', 'Atlantic Canada'], ['Cape Verde', 'The Caribbean', 'British Virgin Islands', 'U.S. Virgin Islands', 'Cuba', 'Florida'], ['Lesser Antilles', 'Virgin Islands', 'Puerto Rico', 'Dominican Republic', 'Turks and Caicos Islands'], ['Central America', 'United States Gulf Coast']]\n",
    "\n",
    "# damages (USD($)) of hurricanes\n",
    "damages = ['Damages not recorded', '100M', 'Damages not recorded', '40M', '27.9M', '5M', 'Damages not recorded', '306M', '2M', '65.8M', '326M', '60.3M', '208M', '1.42B', '25.4M', 'Damages not recorded', '1.54B', '1.24B', '7.1B', '10B', '26.5B', '6.2B', '5.37B', '23.3B', '1.01B', '125B', '12B', '29.4B', '1.76B', '720M', '15.1B', '64.8B', '91.6B', '25.1B']\n",
    "\n",
    "# deaths for each hurricane\n",
    "deaths = [90,4000,16,3103,179,184,408,682,5,1023,43,319,688,259,37,11,2068,269,318,107,65,19325,51,124,17,1836,125,87,45,133,603,138,3057,74]"
   ]
  },
  {
   "cell_type": "markdown",
   "id": "82113ad9",
   "metadata": {},
   "source": [
    "## Exercise 1\n",
    "\n",
    "Begin by looking at the **damages** list. The list contains strings representing the total cost in USD($) caused by 34 category 5 hurricanes (wind speeds ≥ 157 mph (252 km/h )) in the Atlantic region. For some of the hurricanes, damage data was not recorded (\"Damages not recorded\"), while the rest are written in the format \"Prefix-B/M\", where B stands for billions (1000000000) and M stands for millions (1000000).\n",
    "\n",
    "Write a function that returns a new list of updated damages where the recorded data is converted to float values and the missing data is retained as \"Damages not recorded\".\n",
    "\n",
    "Test your function with the data stored in damages."
   ]
  },
  {
   "cell_type": "code",
   "execution_count": 2,
   "id": "d4fffdc8",
   "metadata": {},
   "outputs": [
    {
     "name": "stdout",
     "output_type": "stream",
     "text": [
      "['Damages not recorded', 100000000.0, 'Damages not recorded', 40000000.0, 27900000.0, 5000000.0, 'Damages not recorded', 306000000.0, 2000000.0, 65800000.0, 326000000.0, 60300000.0, 208000000.0, 1420000000.0, 25400000.0, 'Damages not recorded', 1540000000.0, 1240000000.0, 7100000000.0, 10000000000.0, 26500000000.0, 6200000000.0, 5370000000.0, 23300000000.0, 1010000000.0, 125000000000.0, 12000000000.0, 29400000000.0, 1760000000.0, 720000000.0, 15100000000.0, 64800000000.0, 91600000000.0, 25100000000.0]\n"
     ]
    }
   ],
   "source": [
    "conversion = {\"M\": 1000000,\"B\": 1000000000}\n",
    "\n",
    "def convert_damages(damages):\n",
    "    updated_damages = []\n",
    "    for data in damages:\n",
    "        if data[-1] == \"M\":\n",
    "            new_value = float(data[:-1])*conversion[\"M\"]\n",
    "            updated_damages.append(new_value)\n",
    "        elif data[-1] == \"B\":\n",
    "            new_value = float(data[:-1])*conversion[\"B\"]\n",
    "            updated_damages.append(new_value)\n",
    "        else:\n",
    "            updated_damages.append(data)\n",
    "    return updated_damages\n",
    "    \n",
    "updated_damages = convert_damages(damages)\n",
    "print(updated_damages)"
   ]
  },
  {
   "cell_type": "markdown",
   "id": "9e5f9966",
   "metadata": {},
   "source": [
    "## Exercise 2\n",
    "\n",
    "Additional data collected on the 34 strongest Atlantic hurricanes are provided in a series of lists. The data includes:\n",
    "\n",
    "- names: names of the hurricanes\n",
    "- months: months in which the hurricanes occurred\n",
    "- years: years in which the hurricanes occurred\n",
    "- max_sustained_winds: maximum sustained winds (miles per hour) of the hurricanes\n",
    "- areas_affected: list of different areas affected by each of the hurricanes\n",
    "- deaths: total number of deaths caused by each of the hurricanes\n",
    "The data is organized such that the data at each index, from 0 to 33, corresponds to the same hurricane.\n",
    "\n",
    "For example, names[0] yields the “Cuba I” hurricane, which ouccred in months[0] (October) years[0] (1924).\n",
    "\n",
    "Write a function that constructs a dictionary made out of the lists, where the keys of the dictionary are the names of the hurricanes, and the values are dictionaries themselves containing a key for each piece of data (Name, Month, Year,Max Sustained Wind, Areas Affected, Damage, Death) about the hurricane.\n",
    "\n",
    "Thus the key \"Cuba I\" would have the value:\n",
    "> {'Name': 'Cuba I', 'Month': 'October', 'Year': 1924, 'Max Sustained Wind': 165, 'Areas Affected': ['Central America', 'Mexico', 'Cuba', 'Florida', 'The Bahamas'], 'Damage': 'Damages not recorded', 'Deaths': 90}.\n",
    "\n",
    "Test your function on the lists of data provided."
   ]
  },
  {
   "cell_type": "code",
   "execution_count": 3,
   "id": "b67d3283",
   "metadata": {},
   "outputs": [
    {
     "name": "stdout",
     "output_type": "stream",
     "text": [
      "{'Name': 'Cuba II', 'Month': 'November', 'Year': 1932, 'Max Sustained Wind': 175, 'Areas Affected': ['Lesser Antilles', 'Jamaica', 'Cayman Islands', 'Cuba', 'The Bahamas', 'Bermuda'], 'Damage': 40000000.0, 'Deaths': 3103}\n"
     ]
    }
   ],
   "source": [
    "def hurricanes_all_info(names, months, years, max_sustained_winds, areas_affected, updated_damages, deaths):\n",
    "    hurricanes_data = {}\n",
    "    for index in range(0,34):\n",
    "        hurricanes_data[names[index]] = {\"Name\": names[index], \"Month\": months[index], \"Year\": years[index], \n",
    "                                     \"Max Sustained Wind\": max_sustained_winds[index], \"Areas Affected\": areas_affected[index],\n",
    "                                    \"Damage\": updated_damages[index], \"Deaths\": deaths[index]}\n",
    "    return hurricanes_data\n",
    "\n",
    "hurricanes_data = hurricanes_all_info(names, months, years, max_sustained_winds, areas_affected, updated_damages, deaths)\n",
    "#Check for the keys in the new dicrionary\n",
    "#print(hurricanes_data.keys())\n",
    "#Show the data for a specific hurricane\n",
    "print(hurricanes_data[\"Cuba II\"])"
   ]
  },
  {
   "cell_type": "markdown",
   "id": "53154e22",
   "metadata": {},
   "source": [
    "## Exercise 3\n",
    "\n",
    "In addition to organizing the hurricanes in a dictionary with names as the key, you want to be able to organize the hurricanes by year.\n",
    "\n",
    "Write a function that converts the current dictionary of hurricanes to a new dictionary, where the keys are years and the values are lists containing a dictionary for each hurricane that occurred in that year.\n",
    "\n",
    "For example, the key 1932 would yield the value:\n",
    "> [{'Name': 'Bahamas', 'Month': 'September', 'Year': 1932, 'Max Sustained Wind': 160, 'Areas Affected': ['The Bahamas', 'Northeastern United States'], 'Damage': 'Damages not recorded', 'Deaths': 16}, {'Name': 'Cuba II', 'Month': 'November', 'Year': 1932, 'Max Sustained Wind': 175, 'Areas Affected': ['Lesser Antilles', 'Jamaica', 'Cayman Islands', 'Cuba', 'The Bahamas', 'Bermuda'], 'Damage': 40000000.0, 'Deaths': 3103}].\n",
    "\n",
    "Test your function on your hurricane dictionary."
   ]
  },
  {
   "cell_type": "code",
   "execution_count": 4,
   "id": "7686a137",
   "metadata": {},
   "outputs": [
    {
     "name": "stdout",
     "output_type": "stream",
     "text": [
      "[{'Name': 'Bahamas', 'Month': 'September', 'Year': 1932, 'Max Sustained Wind': 160, 'Areas Affected': ['The Bahamas', 'Northeastern United States'], 'Damage': 'Damages not recorded', 'Deaths': 16}, {'Name': 'Cuba II', 'Month': 'November', 'Year': 1932, 'Max Sustained Wind': 175, 'Areas Affected': ['Lesser Antilles', 'Jamaica', 'Cayman Islands', 'Cuba', 'The Bahamas', 'Bermuda'], 'Damage': 40000000.0, 'Deaths': 3103}]\n"
     ]
    }
   ],
   "source": [
    "def year_hurricane_dict(hurricanes_data):\n",
    "    hurricanes_year_info = {}\n",
    "    for value in hurricanes_data.values():\n",
    "        hurricane_year = value[\"Year\"]\n",
    "        hurricane_info = value\n",
    "        if hurricane_year in hurricanes_year_info.keys():\n",
    "            hurricanes_year_info[hurricane_year].append(hurricane_info)\n",
    "        else:\n",
    "            hurricanes_year_info[hurricane_year] = [hurricane_info]\n",
    "    return hurricanes_year_info\n",
    "\n",
    "hurricanes_year_info = year_hurricane_dict(hurricanes_data)\n",
    "print(hurricanes_year_info[1932])"
   ]
  },
  {
   "cell_type": "markdown",
   "id": "a57484c0",
   "metadata": {},
   "source": [
    "## Exercise 4\n",
    "You believe that knowing how often each of the areas of the Atlantic are affected by these strong hurricanes is important for making preparations for future hurricanes.\n",
    "\n",
    "Write a function that counts how often each area is listed as an affected area of a hurricane. Store and return the results in a dictionary where the keys are the affected areas and the values are counts of how many times the areas were affected.\n",
    "\n",
    "Test your function on your hurricane dictionary."
   ]
  },
  {
   "cell_type": "code",
   "execution_count": 5,
   "id": "f40f0afb",
   "metadata": {},
   "outputs": [
    {
     "name": "stdout",
     "output_type": "stream",
     "text": [
      "{'Central America': 2, 'Mexico': 3, 'Cuba': 2, 'Florida': 3, 'The Bahamas': 5, 'Lesser Antilles': 4, 'United States East Coast': 2, 'Atlantic Canada': 3, 'Northeastern United States': 2, 'Jamaica': 2, 'Cayman Islands': 1, 'Bermuda': 2, 'Texas': 4, 'Tamaulipas': 1, 'Yucatn Peninsula': 9, 'Georgia': 1, 'The Carolinas': 1, 'Virginia': 1, 'Southeastern United States': 1, 'Southwestern Quebec': 1, 'New England': 1, 'Louisiana': 1, 'Midwestern United States': 1, 'The Caribbean': 2, 'United States Gulf Coast': 3, 'United States East coast': 1, 'South Texas': 1, 'Venezuela': 2, 'Hispaniola': 1, 'South Florida': 1, 'Greater Antilles': 9, 'Bahamas': 5, 'Eastern United States': 1, 'Ontario': 1, 'Windward Islands': 1, 'Nicaragua': 1, 'Honduras': 1, 'Antilles': 1, 'Colombia': 1, 'Cape Verde': 1, 'British Virgin Islands': 1, 'U.S. Virgin Islands': 1, 'Virgin Islands': 1, 'Puerto Rico': 1, 'Dominican Republic': 1, 'Turks and Caicos Islands': 1}\n"
     ]
    }
   ],
   "source": [
    "def areas_affected_cout(areas_affected):\n",
    "    areas_times_affected = {}\n",
    "\n",
    "    for data in areas_affected:\n",
    "        for areas in data:\n",
    "            if areas not in areas_times_affected.keys():\n",
    "                count = 1\n",
    "                areas_times_affected[areas] = count\n",
    "            else:\n",
    "                count += 1\n",
    "                areas_times_affected[areas] = count\n",
    "    return areas_times_affected\n",
    "\n",
    "areas_times_affected = areas_affected_cout(areas_affected)\n",
    "print(areas_times_affected)"
   ]
  },
  {
   "cell_type": "markdown",
   "id": "9b082f1d",
   "metadata": {},
   "source": [
    "## Exercise 5 \n",
    "Write a function that finds the area affected by the most hurricanes, and how often it was hit.\n",
    "\n",
    "Test your function on your affected area dictionary."
   ]
  },
  {
   "cell_type": "code",
   "execution_count": 6,
   "id": "191691e2",
   "metadata": {},
   "outputs": [
    {
     "name": "stdout",
     "output_type": "stream",
     "text": [
      "The most affected areas was Yucatn Peninsula being hitted 9 times!\n"
     ]
    }
   ],
   "source": [
    "def most_affected_area(areas_times_affected):\n",
    "    count = 0\n",
    "    area = \"\"\n",
    "    for key,value in areas_times_affected.items():\n",
    "        if count < value:\n",
    "            count = value\n",
    "            area = key\n",
    "    return \"The most affected areas was \" + area + \" being hitted \" + str(count) + \" times!\"\n",
    "\n",
    "most_affected_area = most_affected_area(areas_times_affected)\n",
    "print(most_affected_area)"
   ]
  },
  {
   "cell_type": "markdown",
   "id": "08484164",
   "metadata": {},
   "source": [
    "## Exercise 6\n",
    "Write a function that finds the hurricane that caused the greatest number of deaths, and how many deaths it caused.\n",
    "\n",
    "Test your function on your hurricane dictionary."
   ]
  },
  {
   "cell_type": "code",
   "execution_count": 7,
   "id": "f6e3a7c1",
   "metadata": {},
   "outputs": [
    {
     "name": "stdout",
     "output_type": "stream",
     "text": [
      "The hurricane that caused the greatest number of deaths was Mitch, killing about 19325 people!\n"
     ]
    }
   ],
   "source": [
    "def most_deadly_hurricane(hurricanes_data):\n",
    "    #Create dictionary with hurricane name and associated deaths\n",
    "    hurricane_deaths = {}\n",
    "    for values in hurricanes_data.values():\n",
    "        hurricanes = values[\"Name\"]\n",
    "        deaths = values[\"Deaths\"]\n",
    "        hurricane_deaths[hurricanes] = deaths\n",
    "        #Find the most deadly hurricane \n",
    "        count = 0\n",
    "        name = \"\"\n",
    "        for key, value in hurricane_deaths.items():\n",
    "            if count < value:\n",
    "                name = key\n",
    "                count = value\n",
    "    return \"The hurricane that caused the greatest number of deaths was \" + name + \", killing about \" + str(count) + \" people!\"\n",
    "\n",
    "most_deadly_hurricane = most_deadly_hurricane(hurricanes_data)\n",
    "print(most_deadly_hurricane)"
   ]
  },
  {
   "cell_type": "markdown",
   "id": "a88cc2a8",
   "metadata": {},
   "source": [
    "## Exercise 7\n",
    "Just as hurricanes are rated by their windspeed, you want to try rating hurricanes based on other metrics.\n",
    "\n",
    "Write a function that rates hurricanes on a mortality scale according to the following ratings, where the key is the rating and the value is the upper bound of deaths for that rating.\n",
    "\n",
    "mortality_scale = {0: 0,\n",
    "                   1: 100,\n",
    "                   2: 500,\n",
    "                   3: 1000,\n",
    "                   4: 10000}\n",
    "                   \n",
    "For example, a hurricane with a 1 mortality rating would have resulted in greater than 0 but less than or equal to 100 deaths. A hurricane with a 5 mortality rating would have resulted in greater than 10000 deaths.\n",
    "\n",
    "Store the hurricanes in a new dictionary where the keys are mortality ratings and the values are lists containing a dictionary for each hurricane that falls into that mortality rating.\n",
    "\n",
    "Test your function on your hurricane dictionary."
   ]
  },
  {
   "cell_type": "code",
   "execution_count": 8,
   "id": "c2887509",
   "metadata": {},
   "outputs": [
    {
     "name": "stdout",
     "output_type": "stream",
     "text": [
      "{0: [], 1: ['Cuba I', 'Bahamas', 'Carol', 'Carla', 'Edith', 'Anita', 'Andrew', 'Isabel', 'Emily', 'Wilma', 'Dean', 'Michael'], 2: ['CubaBrownsville', 'Tampico', 'Labor Day', 'Hattie', 'Camille', 'Allen', 'Gilbert', 'Hugo', 'Ivan', 'Rita', 'Felix', 'Irma'], 3: ['New England', 'Beulah', 'Matthew'], 4: ['San Felipe II Okeechobee', 'Cuba II', 'Janet', 'David', 'Mitch', 'Katrina', 'Maria']}\n"
     ]
    }
   ],
   "source": [
    "def mortality_rating(hurricanes_data):\n",
    "    mortality_rating = {0: [], 1: [], 2: [], 3:[], 4:[]}\n",
    "    for values in hurricanes_data.values():\n",
    "        hurricanes = values[\"Name\"]\n",
    "        mortality = values[\"Deaths\"]\n",
    "        if mortality == 0:\n",
    "            mortality_rating[0].append(hurricanes)\n",
    "        elif mortality > 0 and mortality <= 100:\n",
    "            mortality_rating[1].append(hurricanes)\n",
    "        elif mortality > 100 and mortality <= 500:\n",
    "            mortality_rating[2].append(hurricanes)\n",
    "        elif mortality > 500 and mortality <= 1000:\n",
    "            mortality_rating[3].append(hurricanes)\n",
    "        else:\n",
    "            mortality_rating[4].append(hurricanes)\n",
    "    return mortality_rating\n",
    "\n",
    "mortality_rating = mortality_rating(hurricanes_data)\n",
    "print(mortality_rating)"
   ]
  },
  {
   "cell_type": "markdown",
   "id": "a5a9e990",
   "metadata": {},
   "source": [
    "## Exercise 8\n",
    "Write a function that finds the hurricane that caused the greatest damage, and how costly it was.\n",
    "\n",
    "Test your function on your hurricane dictionary."
   ]
  },
  {
   "cell_type": "code",
   "execution_count": 9,
   "id": "e7351c32",
   "metadata": {},
   "outputs": [
    {
     "name": "stdout",
     "output_type": "stream",
     "text": [
      "The most destructive hurricane was Katrina causing a damage costing 125000000000.0 USD($)!\n"
     ]
    }
   ],
   "source": [
    "def most_costly_hurricane(hurricanes_data):\n",
    "    hurricane_damage = {}\n",
    "    cost = 0\n",
    "    name = \"\"\n",
    "    for hurricanes in hurricanes_data:\n",
    "        damage = hurricanes_data[hurricanes][\"Damage\"]\n",
    "        if damage == \"Damages not recorded\":\n",
    "            continue\n",
    "        elif damage > cost:\n",
    "            cost = damage\n",
    "            name = hurricanes\n",
    "    return \"The most destructive hurricane was \" + name + \" causing a damage costing \" + str(cost) + \" USD($)!\"\n",
    "\n",
    "most_costly_hurricane = most_costly_hurricane(hurricanes_data)\n",
    "print(most_costly_hurricane)"
   ]
  },
  {
   "cell_type": "markdown",
   "id": "c5f4f4f1",
   "metadata": {},
   "source": [
    "## Exercise 9\n",
    "Lastly, you want to rate hurricanes according to how much damage they cause.\n",
    "\n",
    "Write a function that rates hurricanes on a damage scale according to the following ratings, where the key is the rating and the value is the upper bound of damage for that rating.\n",
    "\n",
    "damage_scale = {0: 0,\n",
    "                1: 100000000,\n",
    "                2: 1000000000,\n",
    "                3: 10000000000,\n",
    "                4: 50000000000}\n",
    "\n",
    "For example, a hurricane with a 1 damage rating would have resulted in damages greater than 0 USD but less than or equal to 100000000 USD. A hurricane with a 5 damage rating would have resulted in damages greater than 50000000000 USD (talk about a lot of money).\n",
    "\n",
    "Store the hurricanes in a new dictionary where the keys are damage ratings and the values are lists containing a dictionary for each hurricane that falls into that damage rating.\n",
    "\n",
    "Test your function on your hurricane dictionary."
   ]
  },
  {
   "cell_type": "code",
   "execution_count": 10,
   "id": "b60c20f7",
   "metadata": {},
   "outputs": [
    {
     "name": "stdout",
     "output_type": "stream",
     "text": [
      "{0: [], 1: ['San Felipe II Okeechobee', 'Cuba II', 'CubaBrownsville', 'Tampico', 'Carol', 'Janet', 'Hattie', 'Edith'], 2: ['New England', 'Carla', 'Beulah', 'Felix'], 3: ['Camille', 'David', 'Allen', 'Gilbert', 'Hugo', 'Mitch', 'Isabel', 'Emily', 'Dean'], 4: ['Andrew', 'Ivan', 'Katrina', 'Rita', 'Wilma', 'Matthew', 'Irma', 'Maria', 'Michael']}\n"
     ]
    }
   ],
   "source": [
    "def hurricane_damage_rating(hurricanes_data):\n",
    "    damage_rating = {0: [], 1:[], 2:[], 3:[], 4:[]}\n",
    "    for values in hurricanes_data.values():\n",
    "            hurricanes = values[\"Name\"]\n",
    "            damage = values[\"Damage\"]\n",
    "            if damage == \"Damages not recorded\":\n",
    "                continue\n",
    "            elif damage == 0:\n",
    "                damage_rating[0].append(hurricanes)\n",
    "            elif damage > 0 and damage <= 100000000:\n",
    "                damage_rating[1].append(hurricanes)\n",
    "            elif damage > 100000000 and damage <= 1000000000:\n",
    "                damage_rating[2].append(hurricanes)\n",
    "            elif damage > 1000000000 and damage <= 10000000000:\n",
    "                damage_rating[3].append(hurricanes)\n",
    "            else:\n",
    "                damage_rating[4].append(hurricanes)\n",
    "    return damage_rating\n",
    "\n",
    "hurricane_damage_rating = hurricane_damage_rating(hurricanes_data)\n",
    "print(hurricane_damage_rating)"
   ]
  }
 ],
 "metadata": {
  "kernelspec": {
   "display_name": "Python 3 (ipykernel)",
   "language": "python",
   "name": "python3"
  },
  "language_info": {
   "codemirror_mode": {
    "name": "ipython",
    "version": 3
   },
   "file_extension": ".py",
   "mimetype": "text/x-python",
   "name": "python",
   "nbconvert_exporter": "python",
   "pygments_lexer": "ipython3",
   "version": "3.7.13"
  }
 },
 "nbformat": 4,
 "nbformat_minor": 5
}
